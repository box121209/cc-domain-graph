{
 "cells": [
  {
   "cell_type": "markdown",
   "metadata": {},
   "source": [
    "# Building domain features from URI paths"
   ]
  },
  {
   "cell_type": "code",
   "execution_count": 49,
   "metadata": {
    "collapsed": false,
    "scrolled": true
   },
   "outputs": [
    {
     "name": "stdout",
     "output_type": "stream",
     "text": [
      "{'domain': u'vkaraoke.org',\n",
      " 'path_set': set([(u'/artist/330', 1),\n",
      "                  (u'/misc/arrow-desc.png', 0),\n",
      "                  (u'/sites/default/files/logo_2017.png', 0),\n",
      "                  (u'/sites/default/files/styles/artist_image_34x34_/public/photo/2016/02//_0rcinfl8rn4.jpg',\n",
      "                   0),\n",
      "                  (u'/sites/default/files/styles/artist_image_34x34_/public/photo/2017/01/ahmed_shad_ahmed_shad/artist_vkaraoke_ahmed_shad_ahmed_shad.png',\n",
      "                   0),\n",
      "                  (u'/sites/default/files/styles/artist_image_34x34_/public/photo/2017/01/artyom_pivovarov/artist_vkaraoke_artyom_pivovarov.jpg',\n",
      "                   0),\n",
      "                  (u'/sites/default/files/styles/artist_image_34x34_/public/photo/2017/01/elena_temnikova/artist_vkaraoke_elena_temnikova.jpg',\n",
      "                   0),\n",
      "                  (u'/sites/default/files/styles/artist_image_34x34_/public/photo/2017/01/elvira_t_elvira_t/artist_vkaraoke_elvira_t_elvira_t.jpg',\n",
      "                   0),\n",
      "                  (u'/sites/default/files/styles/artist_image_34x34_/public/photo/dzhango/dzhango_dzhango.jpg',\n",
      "                   0),\n",
      "                  (u'/sites/default/files/styles/artist_image_34x34_/public/photo/grigoriy_leps/grigoriy_leps_leps.jpg',\n",
      "                   0),\n",
      "                  (u'/sites/default/files/styles/artist_image_34x34_/public/photo/nyusha/nyusha_nyusha.jpg',\n",
      "                   0),\n",
      "                  (u'/sites/default/files/styles/artist_image_34x34_/public/photo/polina_gagarina/polina_gagarina_gagarina_polina.jpg',\n",
      "                   0),\n",
      "                  (u'/sites/default/files/styles/artist_image_34x34_/public/photo/timati/timati_maxresdefault.jpg',\n",
      "                   0),\n",
      "                  (u'/sites/default/files/styles/artist_image_34x34_/public/samsung_egor_kreed.jpg',\n",
      "                   0),\n",
      "                  (u'/sites/default/files/styles/artist_single_image_210x155_/public/photo/ddt/ddt_ddt.jpg',\n",
      "                   0),\n",
      "                  (u'/sites/default/files/styles/sidebar_popular_artist_54x54_/public/photo/2016/01//_alekseev.jpg',\n",
      "                   0),\n",
      "                  (u'/sites/default/files/styles/sidebar_popular_artist_54x54_/public/photo/2016/05//_zx4wi6wsldu.jpg',\n",
      "                   0),\n",
      "                  (u'/sites/default/files/styles/sidebar_popular_artist_54x54_/public/photo/nastya_kamenskih/nastya_kamenskih_1387317670_nastya-kamenskih.jpg',\n",
      "                   0),\n",
      "                  (u'/sites/default/files/styles/sidebar_popular_artist_54x54_/public/photo/potap/potap_180310b.jpg',\n",
      "                   0),\n",
      "                  (u'/sites/default/files/styles/sidebar_popular_artist_54x54_/public/photo/rekord_orkestr/rekord_orkestr_rekord_orkestr2.jpg',\n",
      "                   0),\n",
      "                  (u'/sites/default/files/styles/sidebar_popular_artist_54x54_/public/serebro.jpg',\n",
      "                   0)])}\n"
     ]
    }
   ],
   "source": [
    "import gzip\n",
    "from pprint import pprint\n",
    "import ccfunctions as cc\n",
    "\n",
    "pathfile = \"../sdata/domain_paths_from_1_WAT_file.gz\"\n",
    "\n",
    "with gzip.open(pathfile, \"rb\") as f:\n",
    "    domains = [eval(line) for line in f.readlines()]\n",
    "dstrings = [cc.domain_string(x['domain'], x['path_set']) for x in domains]\n",
    "\n",
    "pprint(domains[0])"
   ]
  },
  {
   "cell_type": "code",
   "execution_count": 50,
   "metadata": {
    "collapsed": false,
    "scrolled": true
   },
   "outputs": [
    {
     "name": "stdout",
     "output_type": "stream",
     "text": [
      "asodehforosh-rozblog.s2a.ir\n",
      "/page-8365.html\n",
      "\n",
      "\n",
      "\n"
     ]
    }
   ],
   "source": [
    "import random\n",
    "\n",
    "str = random.choice(dstrings)\n",
    "print(str)"
   ]
  },
  {
   "cell_type": "code",
   "execution_count": 145,
   "metadata": {
    "collapsed": false
   },
   "outputs": [
    {
     "data": {
      "text/plain": [
       "(99807, 22)"
      ]
     },
     "execution_count": 145,
     "metadata": {},
     "output_type": "execute_result"
    }
   ],
   "source": [
    "from statistics import median\n",
    "from math import log\n",
    "import re \n",
    "import numpy as np \n",
    "\n",
    "def is_crawled(dom):\n",
    "    return max([p[1] for p in dom['path_set']])\n",
    "  \n",
    "def basic(dom):\n",
    "    name = dom['domain']\n",
    "    uris = [p[0] for p in dom['path_set']] + [name]\n",
    "    N = len(uris)\n",
    "    depths = np.array([cc.depth(u) for u in uris[:-1]])\n",
    "    lengths = np.array([1. + cc.length(u) for u in uris])\n",
    "    dots = np.array([len(re.findall(r'\\.', str)) for str in uris])/lengths\n",
    "    hyphens = np.array([len(re.findall(r'-', str)) for str in uris])/lengths\n",
    "    underscores = np.array([len(re.findall(r'_', str)) for str in uris])/lengths\n",
    "    caps = np.array([len(re.findall(r'[A-Z]', str)) for str in uris])/lengths\n",
    "    nums = np.array([len(re.findall(r'[0-9]', str)) for str in uris])/lengths\n",
    "    return [log(N), \n",
    "            min(caps), median(caps), max(caps),\n",
    "            min(nums), median(nums), max(nums),\n",
    "            min(dots), median(dots), max(dots),\n",
    "            min(hyphens), median(hyphens), max(hyphens),\n",
    "            min(underscores), median(underscores), max(underscores),\n",
    "            min(depths), median(depths), max(depths),\n",
    "            min(lengths), median(lengths), max(lengths)]\n",
    "\n",
    "crawled = [is_crawled(dom) for dom in domains]\n",
    "features = np.array([basic(dom) for dom in domains])\n",
    "features.shape"
   ]
  },
  {
   "cell_type": "code",
   "execution_count": null,
   "metadata": {
    "collapsed": false
   },
   "outputs": [],
   "source": [
    "%matplotlib inline\n",
    "import matplotlib.pyplot as plt\n",
    "from tsne import bh_sne\n",
    "\n",
    "N = 40000\n",
    "\n",
    "rg = random.sample(range(len(features)), N)\n",
    "subset = features[rg]\n",
    "proj_2d = bh_sne(subset, theta=0.5)\n",
    "\n",
    "col = ['lightgrey', 'red']\n",
    "col =[col[crawled[i]] for i in rg]\n",
    "size = [1.0, 2.0]\n",
    "size =[size[crawled[i]] for i in rg]\n",
    "\n",
    "plt.figure(figsize=(15,15))\n",
    "plt.scatter(proj_2d[:,0], proj_2d[:,1], s=size, c=col)\n",
    "plt.show()"
   ]
  },
  {
   "cell_type": "code",
   "execution_count": 162,
   "metadata": {
    "collapsed": false
   },
   "outputs": [
    {
     "data": {
      "image/png": "[encoded data removed]",
      "text/plain": [
       "<matplotlib.figure.Figure at 0x1535dfd50>"
      ]
     },
     "metadata": {},
     "output_type": "display_data"
    }
   ],
   "source": [
    "dat = np.array([crawled, features[:,0]]).transpose()\n",
    "\n",
    "plt.boxplot(dat)\n",
    "plt.show()"
   ]
  },
  {
   "cell_type": "code",
   "execution_count": null,
   "metadata": {
    "collapsed": true
   },
   "outputs": [],
   "source": []
  },
  {
   "cell_type": "code",
   "execution_count": null,
   "metadata": {
    "collapsed": true
   },
   "outputs": [],
   "source": []
  }
 ],
 "metadata": {
  "kernelspec": {
   "display_name": "Python 2",
   "language": "python",
   "name": "python2"
  },
  "language_info": {
   "codemirror_mode": {
    "name": "ipython",
    "version": 2
   },
   "file_extension": ".py",
   "mimetype": "text/x-python",
   "name": "python",
   "nbconvert_exporter": "python",
   "pygments_lexer": "ipython2",
   "version": "2.7.13"
  }
 },
 "nbformat": 4,
 "nbformat_minor": 2
}
